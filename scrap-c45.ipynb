{
 "cells": [
  {
   "cell_type": "code",
   "execution_count": 1,
   "metadata": {},
   "outputs": [],
   "source": [
    "import pandas as pd\n",
    "import numpy as np\n",
    "from bs4 import BeautifulSoup\n",
    "import requests"
   ]
  },
  {
   "cell_type": "code",
   "execution_count": 2,
   "metadata": {},
   "outputs": [],
   "source": [
    "#initialize a dataframe\n",
    "cars = pd.DataFrame()"
   ]
  },
  {
   "cell_type": "code",
   "execution_count": 28,
   "metadata": {},
   "outputs": [],
   "source": [
    "details = []   #Prices for the 1st page\n",
    "page_link =  'https://buy.cars45.com/cars/toyota-avensis-2004-manual-ng-339571?filter=1872%2C1871'\n",
    "\n",
    "page_response = requests.get(page_link)\n",
    "page_content = BeautifulSoup(page_response.content, \"html.parser\")\n",
    "\n",
    "for i in range(0,3):\n",
    "    detail = page_content.find_all(\"figcaption\")[i].text\n",
    "    details.append(detail)\n",
    "    \n",
    "#car name\n",
    "Name = page_content.h1.text\n",
    "details.append(Name)"
   ]
  },
  {
   "cell_type": "code",
   "execution_count": 29,
   "metadata": {},
   "outputs": [
    {
     "data": {
      "text/plain": [
       "['\\n                                                            Sedan\\n                                                                                                                    ',\n",
       " '\\n                                                         Petrol\\n                                                    ',\n",
       " '\\n                                                        manual\\n                                                    ',\n",
       " '\\n                            2004 Toyota Avensis\\n                        ']"
      ]
     },
     "execution_count": 29,
     "metadata": {},
     "output_type": "execute_result"
    }
   ],
   "source": [
    "details"
   ]
  },
  {
   "cell_type": "code",
   "execution_count": 46,
   "metadata": {},
   "outputs": [],
   "source": [
    "new_details = []\n",
    "for word in details:\n",
    "    word = word.replace('\\n','')\n",
    "    word = word.replace(';','')\n",
    "    word = word.replace('                           ','')\n",
    "    new_details.append(word)"
   ]
  },
  {
   "cell_type": "code",
   "execution_count": 47,
   "metadata": {},
   "outputs": [
    {
     "data": {
      "text/plain": [
       "['      Sedan        ',\n",
       " '   Petrol                         ',\n",
       " '  manual                         ',\n",
       " ' 2004 Toyota Avensis                        ']"
      ]
     },
     "execution_count": 47,
     "metadata": {},
     "output_type": "execute_result"
    }
   ],
   "source": [
    "new_details"
   ]
  },
  {
   "cell_type": "code",
   "execution_count": null,
   "metadata": {},
   "outputs": [],
   "source": []
  }
 ],
 "metadata": {
  "kernelspec": {
   "display_name": "Python 3",
   "language": "python",
   "name": "python3"
  },
  "language_info": {
   "codemirror_mode": {
    "name": "ipython",
    "version": 3
   },
   "file_extension": ".py",
   "mimetype": "text/x-python",
   "name": "python",
   "nbconvert_exporter": "python",
   "pygments_lexer": "ipython3",
   "version": "3.6.9"
  }
 },
 "nbformat": 4,
 "nbformat_minor": 4
}
